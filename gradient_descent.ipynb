{
 "cells": [
  {
   "cell_type": "markdown",
   "id": "49741387-6119-4cfa-845d-b805796daa0c",
   "metadata": {},
   "source": [
    "# Stability control by local sensitivity analysis\n",
    "\n",
    "In this notebook, we show how sensitivity analysis can be done with the methods proposed in the main paper.\n",
    "All the analysis and dynamics functions are defined in the file `gradients.py`.\n",
    "We also assume prior knowledge of equilibrium points and parameters, contained in the `.pckl` files.\n",
    "\n",
    "## Calculation of gradients\n",
    "\n",
    "We start by importing all necessary information:"
   ]
  },
  {
   "cell_type": "code",
   "execution_count": 5,
   "id": "8955159d-3cda-4e34-a639-231d234f89ec",
   "metadata": {},
   "outputs": [
    {
     "name": "stdout",
     "output_type": "stream",
     "text": [
      "{'ei2D': array([0.35105936, 0.25852722, 2.03117888, 0.58508338]),\n",
      " 'epi': array([0.12422359, 0.91908678, 1.99746744, 0.26831825]),\n",
      " 'mes': array([0.83480301, 0.12957192, 1.90140876, 0.1354122 ]),\n",
      " 'sM': array([0.35144822, 0.25830253, 1.78161153, 0.16158419]),\n",
      " 'sM2': array([0.35086481, 0.25863976, 2.16901978, 1.17639098]),\n",
      " 'sS': array([0.12422684, 0.91900697, 2.01793498, 0.29901225]),\n",
      " 'sen': array([0.12427307, 0.91784816, 2.34692453, 1.56395926])}\n",
      "\n",
      "\n",
      "{'a1': 2.000000812538125,\n",
      " 'a10': 0.1018496036626197,\n",
      " 'a11': 1.0121863302747556,\n",
      " 'a2': 0.09873700853051456,\n",
      " 'a3': 2.0001967129905602,\n",
      " 'a4': 0.0999859413457263,\n",
      " 'a5': 0.4999709478994542,\n",
      " 'a6': 0.5001311861499895,\n",
      " 'a7': 0.5000723533030483,\n",
      " 'a8': 0.5000870384120284,\n",
      " 'a9': 2.0062108619945156,\n",
      " 'be': 0.09939260623322704,\n",
      " 'bn': 1.0000744796065282,\n",
      " 'bp': 0.11302922890326285,\n",
      " 'bs': 0.0906287255831638,\n",
      " 'k1': 0.09969993769513218,\n",
      " 'k10': 0.4999672816898334,\n",
      " 'k11': 0.4999957904362805,\n",
      " 'k12': 0.4999983899717048,\n",
      " 'k13': 1.0006202618536943,\n",
      " 'k14': 1.9998421529629067,\n",
      " 'k15': 1.9999180340826272,\n",
      " 'k16': 0.9864585600042485,\n",
      " 'k2': 0.1010441905500766,\n",
      " 'k3': 2.000099638584258,\n",
      " 'k4': 0.09999548647579062,\n",
      " 'k5': 0.10294780350113188,\n",
      " 'k6': 2.000001488589412,\n",
      " 'k7': 0.10000141121065799,\n",
      " 'k8': 2.0000010475103775,\n",
      " 'k9': 0.5000350606127737,\n",
      " 'n': 2}\n"
     ]
    }
   ],
   "source": [
    "import gradients as g\n",
    "import pickle\n",
    "from pprint import pprint #just for nice print thingies\n",
    "\n",
    "eqs = pickle.load(open('equilibria_names.pckl', 'rb'))\n",
    "pars = pickle.load(open('nom_pars.pckl', 'rb'))\n",
    "\n",
    "# eqs is a dictionary of equilibrium points\n",
    "pprint(eqs)\n",
    "print('\\n')\n",
    "# pars is a dictionary of parameters\n",
    "pprint(pars)"
   ]
  },
  {
   "cell_type": "markdown",
   "id": "bbd89c6a-9087-4195-873b-0c9cd616fc29",
   "metadata": {},
   "source": [
    "The `gradients.py` file has pre-made functions that serve to calculate local sensitivity to parameter variation, gradients to increase distance between two equilibrium points, and gradients to reduce $R(\\lambda)$."
   ]
  },
  {
   "cell_type": "code",
   "execution_count": 7,
   "id": "85b77e35-217c-4d8e-8438-3bd7e0a4dc6e",
   "metadata": {},
   "outputs": [
    {
     "name": "stdout",
     "output_type": "stream",
     "text": [
      "array([[ 6.69759691e-01, -1.18278236e-01, -1.23903302e-02,\n",
      "        -7.50359961e-04, -4.31499158e-01,  2.01148735e-04,\n",
      "         1.91595622e-03, -1.21659259e-04, -2.07087918e-05,\n",
      "        -6.66774615e-05, -2.09929839e-05, -6.56814337e-05,\n",
      "         1.31463825e-05, -4.03759590e-05, -2.44810042e-05,\n",
      "        -7.25721320e-04,  1.68901833e-02,  1.51993754e-01,\n",
      "        -1.87307942e-02, -2.43661724e-03,  1.09948515e-05,\n",
      "         1.45953265e-04,  1.77990870e-04,  4.22907080e-05,\n",
      "         2.15994096e-04,  4.80120136e-04,  3.79801273e-04,\n",
      "         1.45223956e+00, -4.60036215e-02,  1.89143338e-04,\n",
      "         2.79047217e-03],\n",
      "       [-5.22240366e+00,  9.22266149e-01,  9.66127203e-02,\n",
      "         5.85087855e-03,  1.28146895e+01, -5.97372797e-03,\n",
      "        -5.69001902e-02,  3.61304443e-03,  5.08116622e-04,\n",
      "         1.63601657e-03,  5.15089638e-04,  1.61157775e-03,\n",
      "        -3.22563264e-04,  9.90675655e-04,  6.00672665e-04,\n",
      "         1.78064983e-02, -1.31700006e-01, -1.18516051e+00,\n",
      "         5.56268320e-01,  7.23628143e-02, -2.69772705e-04,\n",
      "        -3.58114951e-03, -4.36723303e-03, -1.03765646e-03,\n",
      "        -5.29969066e-03, -1.17803599e-02, -9.31890867e-03,\n",
      "        -1.13237349e+01,  1.36621849e+00, -4.64087307e-03,\n",
      "        -6.84677939e-02],\n",
      "       [-4.16198562e+00,  7.34998421e-01,  7.69953413e-02,\n",
      "         4.66284760e-03,  1.00412800e+01, -4.68086840e-03,\n",
      "        -4.45856094e-02,  2.83109401e-03, -1.29536868e-01,\n",
      "        -4.17078389e-01, -1.31314536e-01, -4.10848073e-01,\n",
      "         8.22327654e-02, -2.52558205e-01, -1.53132672e-01,\n",
      "        -4.53950514e+00, -1.04958093e-01, -9.44511631e-01,\n",
      "         4.35878368e-01,  5.67017468e-02,  6.87745879e-02,\n",
      "         9.12961459e-01,  1.11336190e+00,  2.64535272e-01,\n",
      "         1.35107828e+00,  3.00322970e+00,  2.37571886e+00,\n",
      "        -9.02443108e+00,  1.07053568e+00,  1.18312241e+00,\n",
      "         1.74548582e+01],\n",
      "       [-5.16158025e+00,  9.11524855e-01,  9.54875075e-02,\n",
      "         5.78273552e-03,  1.15825577e+01, -5.39935430e-03,\n",
      "        -5.14292395e-02,  3.26565037e-03, -2.55588001e-02,\n",
      "        -8.22933526e-02, -2.59095501e-02, -8.10640547e-02,\n",
      "         1.23635404e-01, -3.79716473e-01, -2.30232069e-01,\n",
      "        -6.82505993e+00, -1.30166144e-01, -1.17135738e+00,\n",
      "         5.02783146e-01,  6.54051330e-02,  1.35698506e-02,\n",
      "         1.80135584e-01,  2.19676411e-01,  5.21952106e-02,\n",
      "         2.03132058e+00,  4.51529893e+00,  3.57184828e+00,\n",
      "        -1.11918516e+01,  1.23485664e+00,  2.33440792e-01,\n",
      "         2.62430485e+01]])\n",
      "array([ 9.50349833e-01, -1.67807515e-01, -1.75793389e-02, -1.05412866e-03,\n",
      "       -2.11362239e+00,  9.80537722e-04,  9.33942182e-03, -5.95872824e-04,\n",
      "        4.60230495e-03,  1.48179927e-02,  4.70662446e-03,  1.37501035e-02,\n",
      "       -2.46337710e-02,  6.90760031e-02,  4.16632387e-02,  1.36224466e+00,\n",
      "        2.39662060e-02,  2.15644796e-01, -9.17485678e-02, -1.18775855e-02,\n",
      "       -2.44348313e-03, -3.24379075e-02, -3.95342081e-02, -8.57323920e-03,\n",
      "       -4.04719471e-01, -8.21386431e-01, -7.19526330e-01,  2.06047237e+00,\n",
      "       -2.25341641e-01, -4.20360186e-02, -4.74953338e+00])\n",
      "array([array([ 1.25750587e+01,  1.55441948e-01,  2.99652552e-02,  5.07847291e-03,\n",
      "              -1.51600528e+01,  1.21363422e-02,  1.10987370e-01, -7.57136185e-03,\n",
      "              -7.46638957e-04, -4.19923540e-03, -8.89952507e-04, -3.17595119e-03,\n",
      "               6.22015886e-04, -1.91334534e-03, -1.16606468e-03, -3.39982725e-02,\n",
      "               3.19427659e-01, -6.78713088e-01, -5.73011808e-01, -1.57639375e-01,\n",
      "               3.88224106e-04,  5.95716174e-03,  8.49138461e-03,  2.06168136e-03,\n",
      "               1.01350400e-02,  2.28267402e-02,  1.77913219e-02,  1.06125094e+01,\n",
      "              -1.71154423e+00,  8.96045623e-03,  1.30876149e-01])                ,\n",
      "       array([-1.27660977e-01,  2.46956130e-02,  2.42988302e-03, -2.60928273e-03,\n",
      "               3.29472417e-01, -3.53336073e-04, -3.35240066e-03,  9.32107181e-05,\n",
      "              -4.73654167e-03, -1.36793122e-02, -1.01828092e-01, -2.67598063e-02,\n",
      "               1.10936035e-03, -8.47829492e-03, -2.11818473e-03, -5.16078493e-02,\n",
      "              -3.21886136e-03, -2.98789258e-02,  1.42188452e-02,  4.27952675e-03,\n",
      "               2.53331006e-03,  2.95101099e-02, -1.91518545e-02,  2.07253733e-02,\n",
      "               1.85165235e-02,  1.00832535e-01,  2.65546925e-02, -2.80620690e-01,\n",
      "               3.52192807e-02,  3.84087619e-02,  2.40122086e-01])                ,\n",
      "       array([-1.15007918e+01, -6.14719973e-01,  4.75689253e-03, -3.88093909e-04,\n",
      "               1.33488102e+01, -4.81871404e-03, -2.54928048e-02,  2.30858325e-03,\n",
      "               6.03322008e-04,  2.16101307e-03,  3.70912954e-04,  1.31720192e-03,\n",
      "              -8.16166960e-05,  4.30189817e-04,  2.71081603e-04,  5.43259323e-03,\n",
      "              -2.92337435e-01,  2.52898037e-01,  4.94454888e-01,  4.88987406e-02,\n",
      "              -3.30625492e-04, -1.09720790e-03, -2.61601547e-03, -9.36559711e-04,\n",
      "              -1.69553347e-03, -5.39469023e-03, -2.81781182e-03, -8.27643542e+00,\n",
      "               1.51836671e+00, -2.81513808e-03, -2.31447148e-02])                ,\n",
      "       array([ 1.34558212e+01, -2.37588246e+00, -2.48896686e-01, -1.49043794e-02,\n",
      "              -2.99509189e+01,  1.38852591e-02,  1.32253270e-01, -8.44409895e-03,\n",
      "               6.52045478e-02,  2.09948911e-01,  6.54743263e-02,  2.19948504e-01,\n",
      "              -3.46235185e-01,  9.79183660e-01,  5.90678045e-01,  1.91725098e+01,\n",
      "               3.39332990e-01,  3.05319256e+00, -1.30011239e+00, -1.68196277e-01,\n",
      "              -3.46188996e-02, -4.59531772e-01, -5.60767495e-01, -1.45043284e-01,\n",
      "              -5.68846918e+00, -1.16435165e+01, -1.01032595e+01,  2.91733214e+01,\n",
      "              -3.19318973e+00, -5.95528429e-01, -6.73329522e+01])                ],\n",
      "      dtype=object)\n"
     ]
    }
   ],
   "source": [
    "# local sensitivity\n",
    "sens = g.state_sens(g.F_s, eqs['epi'], pars)\n",
    "pprint(sens) # prints an nxm array of the sensitivity of the given equilibrium point due to the changes of the DIFFERENTIABLE parameters given in g.df_parameters\n",
    "\n",
    "# distance gradient\n",
    "d_gradient = g.distance_gradient(g.F_s, eqs['epi'], eqs['sS'], pars)\n",
    "pprint(d_gradient) # prints an m-array indicating the direction in differentiable-parameter-space to maximally increase the distance between the given equilibria\n",
    "\n",
    "# eigenvalue gradient\n",
    "e, e_gradient = g.eigenvar_gradient(g.F_s, eqs['epi'], pars)\n",
    "pprint(e_gradient) # prints n-long array where each entry is the direction in parameter space corresponding to the biggest decrease in the corresponding entry in e"
   ]
  },
  {
   "cell_type": "markdown",
   "id": "0da52a47-15ea-4261-9122-331ce00965d5",
   "metadata": {},
   "source": [
    "In order to obtain a new parameter set after moving in the desired direction and calculating the new equilibrium points and a brief summary of wether or not there were bifurcations, the function `g.control()` was made."
   ]
  },
  {
   "cell_type": "code",
   "execution_count": 8,
   "id": "0d95df1e-72a9-4e24-a1c4-bdd8db3e58c5",
   "metadata": {},
   "outputs": [
    {
     "name": "stdout",
     "output_type": "stream",
     "text": [
      "{'lost': [],\n",
      " 'out': ({'a1': 2.0000048330639477,\n",
      "          'a10': 0.10171180941382706,\n",
      "          'a11': 1.0120656238856178,\n",
      "          'a2': 0.09877318469750197,\n",
      "          'a3': 2.00018132142272,\n",
      "          'a4': 0.09998394878423925,\n",
      "          'a5': 0.4999705379853026,\n",
      "          'a6': 0.500125744427395,\n",
      "          'a7': 0.5000657211183622,\n",
      "          'a8': 0.5000856001814815,\n",
      "          'a9': 2.0061429670143474,\n",
      "          'be': 0.0993548033417071,\n",
      "          'bn': 1.0000674277228045,\n",
      "          'bp': 0.11223245608143527,\n",
      "          'bs': 0.0909743865676118,\n",
      "          'k1': 0.09985936660274013,\n",
      "          'k10': 0.4999697675285229,\n",
      "          'k11': 0.4999965800107825,\n",
      "          'k12': 0.5000006966633096,\n",
      "          'k13': 1.0006161293384148,\n",
      "          'k14': 1.9998537410237751,\n",
      "          'k15': 1.9999250234294936,\n",
      "          'k16': 0.9866870876165653,\n",
      "          'k2': 0.1010160394757167,\n",
      "          'k3': 2.000096689507297,\n",
      "          'k4': 0.09999530963714127,\n",
      "          'k5': 0.10259322616837857,\n",
      "          'k6': 2.0000016530825833,\n",
      "          'k7': 0.10000297797456592,\n",
      "          'k8': 2.000000947547869,\n",
      "          'k9': 0.5000358326868299,\n",
      "          'n': 2},\n",
      "         {'ei2D': array([0.34470081, 0.26289186, 2.02797642, 0.5805563 ]),\n",
      "          'epi': array([0.12500533, 0.90964421, 1.98313665, 0.24901983]),\n",
      "          'mes': array([0.84204446, 0.12882621, 1.90208117, 0.13398897]),\n",
      "          'sM': array([0.34508031, 0.26266369, 1.77958183, 0.16020914]),\n",
      "          'sM2': array([0.34450558, 0.26300937, 2.16911126, 1.18839885]),\n",
      "          'sS': array([0.12501318, 0.90945883, 2.03057443, 0.32038043]),\n",
      "          'sen': array([0.12505911, 0.90835247, 2.34516323, 1.56004705])}),\n",
      " 'quit': False}\n"
     ]
    }
   ],
   "source": [
    "out = g.control([d_gradient], 1e-3, pars, eqs)\n",
    "pprint(out)"
   ]
  },
  {
   "cell_type": "markdown",
   "id": "64f696f6-974a-4e81-ab4b-2e30f9d5b536",
   "metadata": {},
   "source": [
    "The output of this dictionary is:\n",
    "- `lost`: a list of the equilibria lost after parameter manipulation, if any.\n",
    "- `out`: a tuple containing a new dictionary of parameters, and its corresponding dictionary of equilibrium points.\n",
    "- `quit`: a boolean indicating if iterations should be stopped due to a bifurcation.\n",
    "\n",
    "## Multiple gradient descent\n",
    "In order to calculate the optimum direction of movement, the function `g.optimum_coefficients()` was made.\n",
    "This calculates the optimum coefficients as described by LeNovére, and returns the direction of descent."
   ]
  },
  {
   "cell_type": "code",
   "execution_count": 10,
   "id": "57361647-c54e-49fc-906a-460d38fe1db9",
   "metadata": {},
   "outputs": [
    {
     "name": "stdout",
     "output_type": "stream",
     "text": [
      "array([ 2.85975964e-02, -1.50578314e-02,  3.54320731e-03, -2.00797535e-03,\n",
      "        4.00202153e-02,  2.27117399e-04,  3.16144991e-03, -2.95460671e-04,\n",
      "       -3.90795204e-03, -1.13217214e-02, -8.82373707e-02, -2.26331526e-02,\n",
      "       -1.45725105e-04, -4.22298042e-03,  5.41767335e-05,  1.66848444e-02,\n",
      "        7.26567347e-04, -4.41914415e-02,  1.85315766e-03, -4.04304933e-03,\n",
      "        2.08976161e-03,  2.44247785e-02, -1.80943238e-02,  1.75922358e-02,\n",
      "       -2.17000850e-03,  5.02174689e-02, -9.35413139e-03,  2.31216719e-02,\n",
      "        4.13684068e-03,  3.17897158e-02, -6.97937263e-03])\n"
     ]
    }
   ],
   "source": [
    "opt = g.optimum_coefficients(e_gradient)\n",
    "pprint(opt)"
   ]
  },
  {
   "cell_type": "markdown",
   "id": "e6811fff-4709-4ed4-ab84-bac26f938ccd",
   "metadata": {},
   "source": [
    "Note that this function is called by `g.control()`, so passing an `array` or `list` of gradients can be done (in fact, even if it is only one gradient, it should be put in such an iterable).\n",
    "So, in order to move along the direction that reduces **all** eigenvalues of the equilibrium *epi* (gradients calculated above), we would only need to call"
   ]
  },
  {
   "cell_type": "code",
   "execution_count": 11,
   "id": "7e73d8b9-8f49-4ac9-9a6c-7a030e31ff5f",
   "metadata": {},
   "outputs": [
    {
     "name": "stdout",
     "output_type": "stream",
     "text": [
      "{'lost': [],\n",
      " 'out': ({'a1': 2.000006105001265,\n",
      "          'a10': 0.10221539783742793,\n",
      "          'a11': 1.0121181928945173,\n",
      "          'a2': 0.09841510915477204,\n",
      "          'a3': 2.0002102117647937,\n",
      "          'a4': 0.0999564909587359,\n",
      "          'a5': 0.4999861701446301,\n",
      "          'a6': 0.5003091011638942,\n",
      "          'a7': 0.499940550597855,\n",
      "          'a8': 0.5002151838068079,\n",
      "          'a9': 2.0061950552148136,\n",
      "          'be': 0.09942273981532128,\n",
      "          'bn': 1.000306042309953,\n",
      "          'bp': 0.11297838974497101,\n",
      "          'bs': 0.09079714850582603,\n",
      "          'k1': 0.09990824835666354,\n",
      "          'k10': 0.4998848119873265,\n",
      "          'k11': 0.49935305162633925,\n",
      "          'k12': 0.49983352552177684,\n",
      "          'k13': 1.0006192003626329,\n",
      "          'k14': 1.9998113919215201,\n",
      "          'k15': 1.9999184287168839,\n",
      "          'k16': 0.9865800957771433,\n",
      "          'k2': 0.10093450626814576,\n",
      "          'k3': 2.000125448021165,\n",
      "          'k4': 0.09998085997826638,\n",
      "          'k5': 0.1032393188236346,\n",
      "          'k6': 2.0000031429583647,\n",
      "          'k7': 0.1000244398496386,\n",
      "          'k8': 1.9999988953152419,\n",
      "          'k9': 0.5000065943016678,\n",
      "          'n': 2},\n",
      "         {'ei2D': array([0.35191923, 0.25866976, 2.03319761, 0.58729098]),\n",
      "          'epi': array([0.1244441 , 0.92015338, 1.99826797, 0.26838257]),\n",
      "          'mes': array([0.83622221, 0.12966918, 1.90199983, 0.13528305]),\n",
      "          'sM': array([0.35231078, 0.25844392, 1.78249387, 0.16138719]),\n",
      "          'sM2': array([0.35172611, 0.25878128, 2.16972131, 1.17322844]),\n",
      "          'sS': array([0.12444737, 0.92007305, 2.01882827, 0.29920035]),\n",
      "          'sen': array([0.1244937 , 0.91891238, 2.34768835, 1.56350155])}),\n",
      " 'quit': False}\n"
     ]
    }
   ],
   "source": [
    "out = g.control(e_gradient, 1e-3, pars, eqs)\n",
    "pprint(out)"
   ]
  },
  {
   "cell_type": "markdown",
   "id": "569b9146-402a-40fd-bc21-304dd5ff029f",
   "metadata": {
    "tags": []
   },
   "source": [
    "## Iterative manipulation until goals are reached\n",
    "The code to manipulate the system parameters until one or several control conditions are reached could look something like the following:\n",
    "\n",
    "```python\n",
    "import gradients as g\n",
    "import pickle\n",
    "import other_packages\n",
    "\n",
    "eqs = pickle.load(...) # reference points\n",
    "pars = pickle.load(...) # nominal parameters\n",
    "new_eqs = eqs.copy()\n",
    "new_pars = pars.copy()\n",
    "\n",
    "### Define control conditions\n",
    "step_size = 1e-3\n",
    "n_iter = 1e3\n",
    "e_target = 1 # eigenvalue change target\n",
    "eigenval_diff = # calcualate eigenval difference\n",
    "q = False\n",
    "\n",
    "ii = 0\n",
    "while ii < n_iter and eigenval_diff < e_target and not q:\n",
    "    e, d = g.eigenvar_gradient(g.F_s, new_eqs['epi'], new_pars)\n",
    "    lost, new, q = g.control(d, step_size, new_pars, new_eqs)\n",
    "    \n",
    "    eigenval_diff = # calculate eigenval difference again\n",
    "\n",
    "print('This is done. The control targets have been reached.')\n",
    "```\n",
    "\n",
    "In the end, parameter values, equilibrium points or anything similar could be saved by whatever means.\n",
    "Plots such as those shown in the main paper can be done, but would need to be done manually as such functions have not been done.\n",
    "The code used to generate such figures is not shown here as it is very slow due to repeated symbolic operations and substitutions."
   ]
  }
 ],
 "metadata": {
  "kernelspec": {
   "display_name": "Python 3",
   "language": "python",
   "name": "python3"
  },
  "language_info": {
   "codemirror_mode": {
    "name": "ipython",
    "version": 3
   },
   "file_extension": ".py",
   "mimetype": "text/x-python",
   "name": "python",
   "nbconvert_exporter": "python",
   "pygments_lexer": "ipython3",
   "version": "3.9.1"
  }
 },
 "nbformat": 4,
 "nbformat_minor": 5
}
